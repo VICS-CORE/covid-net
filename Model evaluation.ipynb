{
 "cells": [
  {
   "cell_type": "markdown",
   "metadata": {},
   "source": [
    "Evaluate a given model and compare multiple models. Push selected models to Neptune."
   ]
  },
  {
   "cell_type": "code",
   "execution_count": null,
   "metadata": {},
   "outputs": [],
   "source": [
    "import importlib\n",
    "import neptune\n",
    "import pandas as pd\n",
    "import numpy as np\n",
    "import datetime as dt\n",
    "import torch\n",
    "\n",
    "from src import utils\n",
    "from src import data\n",
    "from src import backtest\n",
    "from src import constants\n",
    "from matplotlib.ticker import MultipleLocator\n",
    "from matplotlib.dates import DayLocator, AutoDateLocator, ConciseDateFormatter\n",
    "%matplotlib inline\n",
    "\n",
    "ARCHS_DIR = 'archs'\n",
    "DATA_DIR = 'data'\n",
    "EXPERIMENTS_DIR = 'experiments'\n",
    "DEVICE='cpu'\n",
    "NEPTUNE_PRJ = 'indiacovidseva/covid-net'"
   ]
  },
  {
   "cell_type": "markdown",
   "metadata": {},
   "source": [
    "### Backtest one model"
   ]
  },
  {
   "cell_type": "code",
   "execution_count": null,
   "metadata": {},
   "outputs": [],
   "source": [
    "experiment_id = '0001'\n",
    "checkpoint = 'latest-e1740.pt'\n",
    "\n",
    "model, cp = utils.load_model(experiment_id, checkpoint)"
   ]
  },
  {
   "cell_type": "markdown",
   "metadata": {},
   "source": [
    "#### Plot loss and acc"
   ]
  },
  {
   "cell_type": "code",
   "execution_count": null,
   "metadata": {
    "jupyter": {
     "source_hidden": true
    }
   },
   "outputs": [],
   "source": [
    "df_loss = pd.DataFrame({\n",
    "    'trn_loss': cp['trn_losses'],\n",
    "    'val_loss': cp['val_losses']\n",
    "})\n",
    "\n",
    "df_acc = pd.DataFrame({\n",
    "    'trn_acc': cp.get('trn_acc', np.zeros((cp['config']['NUM_EPOCHS']))),\n",
    "    'val_acc': cp.get('val_acc', np.zeros((cp['config']['NUM_EPOCHS'])))\n",
    "})\n",
    "\n",
    "# smoothen\n",
    "df_loss['trn_loss'] = df_loss['trn_loss'].rolling(3, min_periods=1, center=True).mean()\n",
    "df_loss['val_loss'] = df_loss['val_loss'].rolling(3, min_periods=1, center=True).mean()\n",
    "df_acc['trn_acc'] = df_acc['trn_acc'].rolling(3, min_periods=1, center=True).mean()\n",
    "df_acc['val_acc'] = df_acc['val_acc'].rolling(3, min_periods=1, center=True).mean()\n",
    "\n",
    "_ = df_loss.plot(\n",
    "    y=['trn_loss', 'val_loss'],\n",
    "    title='Loss per epoch',\n",
    "    subplots=False,\n",
    "    figsize=(5,5),\n",
    "    sharex=False,\n",
    "    logy=True\n",
    ")\n",
    "_ = df_acc.plot(\n",
    "    y=['trn_acc', 'val_acc'],\n",
    "    title='Acc per epoch',\n",
    "    subplots=False,\n",
    "    figsize=(5,5),\n",
    "    sharex=False,\n",
    "    logy=True\n",
    ")"
   ]
  },
  {
   "cell_type": "markdown",
   "metadata": {},
   "source": [
    "#### Load training data and backtest"
   ]
  },
  {
   "cell_type": "code",
   "execution_count": null,
   "metadata": {},
   "outputs": [],
   "source": [
    "cols = ['location', 'date', 'total_cases', 'new_cases', 'total_deaths', 'new_deaths', 'population', 'population_density', 'gdp_per_capita', 'hospital_beds_per_thousand', 'median_age']\n",
    "dates = ['date']\n",
    "df = pd.read_csv(DATA_DIR + \"/\" + cp['config']['DS']['SRC'],\n",
    "                 usecols=cols,\n",
    "                 parse_dates=dates)\n",
    "df = data.fix_anomalies_owid(df)\n",
    "df.sample()"
   ]
  },
  {
   "cell_type": "code",
   "execution_count": null,
   "metadata": {},
   "outputs": [],
   "source": [
    "backtest.countrywise(model, cp, df, constants.STT_INFO)"
   ]
  },
  {
   "cell_type": "markdown",
   "metadata": {},
   "source": [
    "#### Load covid19india data and backtest"
   ]
  },
  {
   "cell_type": "code",
   "execution_count": null,
   "metadata": {},
   "outputs": [],
   "source": [
    "df = data.get_statewise_data()"
   ]
  },
  {
   "cell_type": "code",
   "execution_count": null,
   "metadata": {},
   "outputs": [],
   "source": [
    "backtest.statewise(model, cp, df, constants.STT_INFO, plot=False)"
   ]
  },
  {
   "cell_type": "markdown",
   "metadata": {},
   "source": [
    "#### Upload model to Neptune"
   ]
  },
  {
   "cell_type": "code",
   "execution_count": null,
   "metadata": {},
   "outputs": [],
   "source": [
    "neptune_prj = neptune.init(NEPTUNE_PRJ)\n",
    "neptune_exp = neptune_prj.get_experiments(id=cp['config']['NEPTUNE_ID'])[0]\n",
    "neptune_exp.log_artifact(EXPERIMENTS_DIR + \"/\" + experiment_id + \"/\" + checkpoint)"
   ]
  },
  {
   "cell_type": "markdown",
   "metadata": {},
   "source": [
    "### Backtest all models"
   ]
  },
  {
   "cell_type": "code",
   "execution_count": null,
   "metadata": {},
   "outputs": [],
   "source": [
    "accs = []\n",
    "for e in range(0, 10001, 1): # start, stop, step\n",
    "    checkpoint = 'latest-e' + str(e) + '.pt'\n",
    "    try:\n",
    "        model, cp = utils.load_model(experiment_id, checkpoint, v=False)\n",
    "        acc = backtest.countrywise(model, cp, df, plot=False)\n",
    "        accs.append(acc)\n",
    "        print(checkpoint, acc)\n",
    "    except Exception as e:\n",
    "        print(checkpoint, e)"
   ]
  },
  {
   "cell_type": "markdown",
   "metadata": {},
   "source": [
    "#### Plot test accuracy vs epochs"
   ]
  },
  {
   "cell_type": "code",
   "execution_count": null,
   "metadata": {},
   "outputs": [],
   "source": [
    "# which output feature's acc should be plotted\n",
    "feature = 0\n",
    "feature_name = cp['config']['DS']['FEATURES'][feature]\n",
    "\n",
    "df_exp = pd.DataFrame({\n",
    "    'test_acc': np.array(accs)[:, feature],\n",
    "    'val_acc': cp.get('val_acc', np.zeros((cp['config']['NUM_EPOCHS']))),\n",
    "    'epochs': np.arange(0, 10001, 1)\n",
    "})\n",
    "ax = df_exp[:].plot(\n",
    "    x='epochs',\n",
    "    y=['test_acc', 'val_acc'],\n",
    "    title='Test accuracy: ' + feature_name,\n",
    "    subplots=False,\n",
    "    figsize=(5,5),\n",
    "    sharex=False\n",
    ")\n",
    "\n",
    "print(\"Models with best test accuracy for\", feature_name)\n",
    "print(df_exp.sort_values('test_acc', ascending=False).head())\n",
    "# print(df_exp.loc[(df_exp['test_acc'] - df_exp['val_acc']).abs().sort_values(ascending=True).index]\\\n",
    "#       .head(100).sort_values('test_acc', ascending=False))"
   ]
  },
  {
   "cell_type": "markdown",
   "metadata": {},
   "source": [
    "#### Log test accuracy to Neptune"
   ]
  },
  {
   "cell_type": "code",
   "execution_count": null,
   "metadata": {},
   "outputs": [],
   "source": [
    "neptune_prj = neptune.init(NEPTUNE_PRJ)\n",
    "neptune_exp = neptune_prj.get_experiments(id=cp['config']['NEPTUNE_ID'])[0]\n",
    "for idx, row in df_exp.iterrows():\n",
    "    neptune_exp.log_metric('test accuracy: ' + feature_name, row['epochs'], row['test_acc'])"
   ]
  }
 ],
 "metadata": {
  "kernelspec": {
   "display_name": "Python 3",
   "language": "python",
   "name": "python3"
  },
  "language_info": {
   "codemirror_mode": {
    "name": "ipython",
    "version": 3
   },
   "file_extension": ".py",
   "mimetype": "text/x-python",
   "name": "python",
   "nbconvert_exporter": "python",
   "pygments_lexer": "ipython3",
   "version": "3.7.3"
  },
  "toc-autonumbering": false,
  "toc-showcode": false
 },
 "nbformat": 4,
 "nbformat_minor": 4
}
