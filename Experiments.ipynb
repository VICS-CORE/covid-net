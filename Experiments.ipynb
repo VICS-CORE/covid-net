{
 "cells": [
  {
   "cell_type": "markdown",
   "metadata": {},
   "source": [
    "Setup an experiment with given data and arch by adjusting config"
   ]
  },
  {
   "cell_type": "code",
   "execution_count": 6,
   "metadata": {},
   "outputs": [],
   "source": [
    "import os\n",
    "import utils\n",
    "import importlib\n",
    "import pandas as pd\n",
    "import numpy as np\n",
    "import datetime as dt\n",
    "import torch\n",
    "tnn = torch.nn\n",
    "top = torch.optim\n",
    "\n",
    "from torch.utils import data as tdt\n",
    "%matplotlib inline\n",
    "\n",
    "ARCHS_DIR = 'archs'\n",
    "DATA_DIR = 'data'\n",
    "EXPERIMENTS_DIR = 'experiments'"
   ]
  },
  {
   "cell_type": "markdown",
   "metadata": {},
   "source": [
    "### Device Info"
   ]
  },
  {
   "cell_type": "code",
   "execution_count": 7,
   "metadata": {},
   "outputs": [
    {
     "name": "stdout",
     "output_type": "stream",
     "text": [
      "cpu\n"
     ]
    }
   ],
   "source": [
    "CUDA=\"cuda:0\"\n",
    "CPU=\"cpu\"\n",
    "if torch.cuda.is_available():\n",
    "    device = torch.device(CUDA)\n",
    "    cd = torch.cuda.current_device()\n",
    "    print(\"Num devices:\", torch.cuda.device_count())\n",
    "    print(\"Current device:\", cd)\n",
    "    print(\"Device name:\", torch.cuda.get_device_name(cd))\n",
    "    print(\"Device props:\", torch.cuda.get_device_properties(cd))\n",
    "#     print(torch.cuda.memory_summary(cd))\n",
    "else:\n",
    "    device = torch.device(CPU)\n",
    "print(device)"
   ]
  },
  {
   "cell_type": "markdown",
   "metadata": {},
   "source": [
    "### Experiment Config"
   ]
  },
  {
   "cell_type": "code",
   "execution_count": 8,
   "metadata": {},
   "outputs": [
    {
     "name": "stdout",
     "output_type": "stream",
     "text": [
      "Initialising experiment: 0001_test\n",
      "Resume: False\n",
      "Dataset loaded\n",
      "{'VAL_RATIO': 0.3, 'IP_SEQ_LEN': 40, 'OP_SEQ_LEN': 20, 'SRC': 'owid_2020-06-24.csv'}\n",
      "Model initialised\n",
      "Num params: 27940\n"
     ]
    }
   ],
   "source": [
    "config = {\n",
    "    \"ID\": \"0001_test\",\n",
    "    \"DESC\": \"Check if notebook works.\",\n",
    "    \"ARCH\": \"v1\",\n",
    "    \"DATASET\": \"ds_4020_owid_2020-06-24.csv.pt\",\n",
    "    \"BATCH_SIZE\": 1000,\n",
    "    \"HIDDEN_SIZE\": 20,\n",
    "    \"NUM_LAYERS\": 4,\n",
    "    \"LEARNING_RATE\": 0.001,\n",
    "    \"NUM_EPOCHS\": 10001\n",
    "}\n",
    "\n",
    "# checkpoint filename to resume training else \"\"\n",
    "RESUME = \"\"\n",
    "\n",
    "# setup exp\n",
    "experiment_dir = EXPERIMENTS_DIR + '/' + config['ID']\n",
    "try:\n",
    "    os.mkdir(experiment_dir)\n",
    "except OSError:\n",
    "    print(\"WARNING: Experiment already exists:\", config['ID'])\n",
    "else:\n",
    "    print(\"Initialising experiment:\", config['ID'])\n",
    "print(\"Resume:\", RESUME if RESUME else bool(RESUME))\n",
    "\n",
    "# load data\n",
    "ds = torch.load(DATA_DIR + \"/\" + config['DATASET'])\n",
    "print(\"Dataset loaded\")\n",
    "config['DS'] = ds['config']\n",
    "print(config['DS'])\n",
    "\n",
    "# load arch\n",
    "arch_mod = importlib.import_module(\".\" + config['ARCH'], ARCHS_DIR)\n",
    "importlib.reload(arch_mod) # ensure changes are imported\n",
    "\n",
    "# init Net\n",
    "model = arch_mod.CovidNet(ip_seq_len=config['DS']['IP_SEQ_LEN'], op_seq_len=config['DS']['OP_SEQ_LEN'], hidden_size=config['HIDDEN_SIZE'], num_layers=config['NUM_LAYERS'])\n",
    "model = model.to(device)\n",
    "print (\"Model initialised\")\n",
    "print(\"Num params:\", sum(p.numel() for p in model.parameters() if p.requires_grad))\n",
    "\n",
    "# init Loss and Optimizer\n",
    "loss_fn = tnn.L1Loss()\n",
    "optimizer = top.Adam(model.parameters(), lr=config['LEARNING_RATE'])\n",
    "\n",
    "# init dataset loaders\n",
    "trn_loader = tdt.DataLoader(ds['trn'], shuffle=True, batch_size=config['BATCH_SIZE'])\n",
    "val_loader = tdt.DataLoader(ds['val'], shuffle=True, batch_size=config['BATCH_SIZE'])"
   ]
  },
  {
   "cell_type": "markdown",
   "metadata": {},
   "source": [
    "### Training loop"
   ]
  },
  {
   "cell_type": "code",
   "execution_count": 9,
   "metadata": {},
   "outputs": [
    {
     "name": "stdout",
     "output_type": "stream",
     "text": [
      "BEGIN: [ 2020-06-24 21:29:56.753824 ]\n",
      "[ 2020-06-24 21:30:01.152979 ] epoch:   0 val_loss:  272.57094 trn_loss:  1684.19480\n",
      "Checkpoint saved\n",
      "Checkpoint saved\n",
      "[ 2020-06-24 21:30:04.357433 ] epoch:   1 val_loss:  275.22618 trn_loss:  273.77203\n",
      "Checkpoint saved\n",
      "[ 2020-06-24 21:30:08.801024 ] epoch:   2 val_loss:  270.91347 trn_loss:  280.46126\n",
      "Checkpoint saved\n",
      "Checkpoint saved\n",
      "[ 2020-06-24 21:30:13.667845 ] epoch:   3 val_loss:  274.97433 trn_loss:  275.15506\n",
      "Checkpoint saved\n",
      "[ 2020-06-24 21:30:18.159928 ] epoch:   4 val_loss:  266.19911 trn_loss:  263.67273\n",
      "Checkpoint saved\n",
      "Checkpoint saved\n",
      "[ 2020-06-24 21:30:21.786451 ] epoch:   5 val_loss:  281.31630 trn_loss:  257.21256\n",
      "Checkpoint saved\n",
      "[ 2020-06-24 21:30:26.547042 ] epoch:   6 val_loss:  259.10402 trn_loss:  259.38641\n",
      "Checkpoint saved\n",
      "Checkpoint saved\n",
      "[ 2020-06-24 21:30:31.093434 ] epoch:   7 val_loss:  270.80996 trn_loss:  261.62671\n",
      "Checkpoint saved\n",
      "[ 2020-06-24 21:30:35.740956 ] epoch:   8 val_loss:  264.67668 trn_loss:  259.11281\n",
      "Checkpoint saved\n",
      "[ 2020-06-24 21:30:40.187610 ] epoch:   9 val_loss:  256.41030 trn_loss:  258.59907\n",
      "Checkpoint saved\n",
      "Checkpoint saved\n",
      "[ 2020-06-24 21:30:43.210785 ] epoch:  10 val_loss:  254.60584 trn_loss:  257.57439\n",
      "Checkpoint saved\n",
      "Checkpoint saved\n",
      "END: [ 2020-06-24 21:30:43.215409 ]\n"
     ]
    }
   ],
   "source": [
    "trn_loss_vals = []\n",
    "val_loss_vals = []\n",
    "e = 0\n",
    "min_val_loss = np.Inf\n",
    "\n",
    "if RESUME:\n",
    "#     config, e, md, od, trn_loss_vals, val_loss_vals, min_val_loss = utils.load_checkpoint(experiment_dir, RESUME, device=device)\n",
    "    e+=1\n",
    "    model.load_state_dict(md)\n",
    "    optimizer.load_state_dict(od)\n",
    "\n",
    "# TRAIN\n",
    "print(\"BEGIN: [\", dt.datetime.now(), \"]\")\n",
    "while e < config['NUM_EPOCHS']:\n",
    "    model.train()\n",
    "    trn_losses = []\n",
    "    for data in trn_loader:\n",
    "        ip, op = data\n",
    "        ip = ip.to(device)\n",
    "        op = op.to(device)\n",
    "        optimizer.zero_grad() # set grads to 0\n",
    "        preds = model(ip.view(-1, config['DS']['IP_SEQ_LEN'], 1)) # predict\n",
    "        loss = loss_fn(preds, op.view(-1, config['DS']['OP_SEQ_LEN'])) # calc loss\n",
    "        loss.backward() # calc and assign grads\n",
    "        optimizer.step() # update weights\n",
    "        trn_losses.append(loss) # logging\n",
    "    avg_trn_loss = torch.stack(trn_losses).mean().item() * 10000\n",
    "    trn_loss_vals.append(avg_trn_loss)\n",
    "    \n",
    "    model.eval()\n",
    "    with torch.no_grad():\n",
    "        val_losses = []\n",
    "        for data in val_loader:\n",
    "            ip, op = data\n",
    "            ip = ip.to(device)\n",
    "            op = op.to(device)\n",
    "            preds = model(ip.view(-1, config['DS']['IP_SEQ_LEN'], 1))\n",
    "            loss = loss_fn(preds, op.view(-1, config['DS']['OP_SEQ_LEN']))\n",
    "            val_losses.append(loss)\n",
    "        avg_val_loss = torch.stack(val_losses).mean().item() * 10000\n",
    "        val_loss_vals.append(avg_val_loss)\n",
    "    \n",
    "    if e%10==0:\n",
    "        print(\"[\", dt.datetime.now(), \"] epoch:\", f\"{e:3}\", \"val_loss:\", f\"{avg_val_loss: .5f}\", \"trn_loss:\", f\"{avg_trn_loss: .5f}\")\n",
    "        if e%100==0:\n",
    "            utils.save_checkpoint(config, e, model, optimizer, trn_loss_vals, val_loss_vals, min_val_loss, experiment_dir, \"/latest-e\" + str(e) + \".pt\")\n",
    "        if avg_val_loss <= min_val_loss:\n",
    "            min_val_loss = avg_val_loss\n",
    "            utils.save_checkpoint(config, e, model, optimizer, trn_loss_vals, val_loss_vals, min_val_loss, experiment_dir, \"/best-e\" + str(e) + \".pt\")\n",
    "    e+=1\n",
    "print(\"END: [\", dt.datetime.now(), \"]\")"
   ]
  },
  {
   "cell_type": "code",
   "execution_count": 10,
   "metadata": {},
   "outputs": [
    {
     "data": {
      "image/png": "[encoded data removed]",
      "text/plain": [
       "<Figure size 360x432 with 2 Axes>"
      ]
     },
     "metadata": {
      "needs_background": "light"
     },
     "output_type": "display_data"
    }
   ],
   "source": [
    "df_loss = pd.DataFrame({\n",
    "    'trn_loss': trn_loss_vals,\n",
    "    'val_loss': val_loss_vals\n",
    "})\n",
    "\n",
    "# smoothen\n",
    "df_loss['trn_loss'] = df_loss['trn_loss'].rolling(1, min_periods=1, center=True).mean()\n",
    "df_loss['val_loss'] = df_loss['val_loss'].rolling(1, min_periods=1, center=True).mean()\n",
    "\n",
    "_ = df_loss.plot(\n",
    "    y=['trn_loss', 'val_loss'],\n",
    "    title='Loss per epoch',\n",
    "    subplots=True,\n",
    "    figsize=(5,6),\n",
    "    sharex=False,\n",
    "    logy=True\n",
    ")"
   ]
  }
 ],
 "metadata": {
  "kernelspec": {
   "display_name": "Python 3",
   "language": "python",
   "name": "python3"
  },
  "language_info": {
   "codemirror_mode": {
    "name": "ipython",
    "version": 3
   },
   "file_extension": ".py",
   "mimetype": "text/x-python",
   "name": "python",
   "nbconvert_exporter": "python",
   "pygments_lexer": "ipython3",
   "version": "3.7.3"
  }
 },
 "nbformat": 4,
 "nbformat_minor": 4
}
